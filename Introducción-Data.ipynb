{
 "cells": [
  {
   "cell_type": "markdown",
   "metadata": {},
   "source": [
    "# Finding a Better Place To open a veterinary in Bogota-Colombia\n",
    "### The Battle of Neighborhoods"
   ]
  },
  {
   "cell_type": "markdown",
   "metadata": {},
   "source": [
    "**1.- INTRODUCCIÓN**"
   ]
  },
  {
   "cell_type": "markdown",
   "metadata": {},
   "source": [
    "Currently, pets are part of the family circle, so they have had a potential growth within the city of Bogotá. Likewise, due to irresponsible people, urban fauna has grown in the same way, to support the second population is to find an optimal site to open a veterinary clinic within the city, which will be operated by volunteers and seeks to provide the service to pets that have a home to earn income and refinance the actions they will take to support stray dogs (vaccines, sterilizations, etc.)\n",
    "The objective of this final project is to carry out an analysis of the veterinarians that currently operate within the city of Bogotá in order to find the perfect location to open a veterinary clinic that is well received by citizens."
   ]
  },
  {
   "cell_type": "markdown",
   "metadata": {},
   "source": [
    "**2.- DATA**"
   ]
  },
  {
   "cell_type": "markdown",
   "metadata": {},
   "source": [
    "To obtain that information, location information from \"Foursquare\" will be used. Foursquare is a provider of location data with information on all kinds of places and events within an area of ​​interest. This information includes place names, locations, menus, and even photos. As such, the foursquare location platform will be used as the sole source of data, as all required information indicated can be obtained through the API.\n",
    "\n",
    "After finding the location where we will put our central point, we connect to the Foursquare API to collect information about the veterinarians within the city. From the central point an exact radius is not defined because we want to analyze the data throughout the city.\n",
    "\n",
    "The data retrieved from Foursquare contained information for places within a specified distance of the longitude and latitude of zip codes. The information obtained by venue is as follows:"
   ]
  },
  {
   "cell_type": "markdown",
   "metadata": {},
   "source": [
    "* Service name\n",
    "* Category name\n",
    "* Service Longitude\n",
    "* Service Latitude\n",
    "* formattedAddress"
   ]
  },
  {
   "cell_type": "code",
   "execution_count": null,
   "metadata": {},
   "outputs": [],
   "source": []
  }
 ],
 "metadata": {
  "kernelspec": {
   "display_name": "Python",
   "language": "python",
   "name": "conda-env-python-py"
  },
  "language_info": {
   "codemirror_mode": {
    "name": "ipython",
    "version": 3
   },
   "file_extension": ".py",
   "mimetype": "text/x-python",
   "name": "python",
   "nbconvert_exporter": "python",
   "pygments_lexer": "ipython3",
   "version": "3.6.11"
  }
 },
 "nbformat": 4,
 "nbformat_minor": 4
}

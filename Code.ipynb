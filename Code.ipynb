{
 "cells": [
  {
   "cell_type": "markdown",
   "metadata": {},
   "source": [
    "## Capstone Project – The Battle of Neighborhoods | Finding a Better Place To open a veterinary in Bogota-Colombia"
   ]
  },
  {
   "cell_type": "markdown",
   "metadata": {},
   "source": [
    "### 1. Installing and Importing Python Libraries and Dependencies"
   ]
  },
  {
   "cell_type": "code",
   "execution_count": 1,
   "metadata": {},
   "outputs": [
    {
     "name": "stdout",
     "output_type": "stream",
     "text": [
      "Requirement already satisfied: geocoder in /home/jupyterlab/conda/envs/python/lib/python3.6/site-packages (1.38.1)\n",
      "Requirement already satisfied: ratelim in /home/jupyterlab/conda/envs/python/lib/python3.6/site-packages (from geocoder) (0.1.6)\n",
      "Requirement already satisfied: six in /home/jupyterlab/conda/envs/python/lib/python3.6/site-packages (from geocoder) (1.15.0)\n",
      "Requirement already satisfied: future in /home/jupyterlab/conda/envs/python/lib/python3.6/site-packages (from geocoder) (0.18.2)\n",
      "Requirement already satisfied: click in /home/jupyterlab/conda/envs/python/lib/python3.6/site-packages (from geocoder) (7.1.2)\n",
      "Requirement already satisfied: requests in /home/jupyterlab/conda/envs/python/lib/python3.6/site-packages (from geocoder) (2.24.0)\n",
      "Requirement already satisfied: decorator in /home/jupyterlab/conda/envs/python/lib/python3.6/site-packages (from ratelim->geocoder) (4.4.2)\n",
      "Requirement already satisfied: idna<3,>=2.5 in /home/jupyterlab/conda/envs/python/lib/python3.6/site-packages (from requests->geocoder) (2.10)\n",
      "Requirement already satisfied: certifi>=2017.4.17 in /home/jupyterlab/conda/envs/python/lib/python3.6/site-packages (from requests->geocoder) (2020.6.20)\n",
      "Requirement already satisfied: urllib3!=1.25.0,!=1.25.1,<1.26,>=1.21.1 in /home/jupyterlab/conda/envs/python/lib/python3.6/site-packages (from requests->geocoder) (1.25.11)\n",
      "Requirement already satisfied: chardet<4,>=3.0.2 in /home/jupyterlab/conda/envs/python/lib/python3.6/site-packages (from requests->geocoder) (3.0.4)\n",
      "Note: you may need to restart the kernel to use updated packages.\n"
     ]
    }
   ],
   "source": [
    "pip install geocoder"
   ]
  },
  {
   "cell_type": "code",
   "execution_count": 6,
   "metadata": {},
   "outputs": [
    {
     "name": "stdout",
     "output_type": "stream",
     "text": [
      "Collecting geopy\n",
      "\u001b[?25l  Downloading https://files.pythonhosted.org/packages/07/e1/9c72de674d5c2b8fcb0738a5ceeb5424941fefa080bfe4e240d0bacb5a38/geopy-2.0.0-py3-none-any.whl (111kB)\n",
      "\u001b[K     |████████████████████████████████| 112kB 6.6MB/s eta 0:00:01\n",
      "\u001b[?25hCollecting geographiclib<2,>=1.49 (from geopy)\n",
      "  Downloading https://files.pythonhosted.org/packages/8b/62/26ec95a98ba64299163199e95ad1b0e34ad3f4e176e221c40245f211e425/geographiclib-1.50-py3-none-any.whl\n",
      "Installing collected packages: geographiclib, geopy\n",
      "Successfully installed geographiclib-1.50 geopy-2.0.0\n",
      "Note: you may need to restart the kernel to use updated packages.\n"
     ]
    }
   ],
   "source": [
    "## pip install folium\n",
    "pip install geopy"
   ]
  },
  {
   "cell_type": "markdown",
   "metadata": {},
   "source": [
    "### Import libraries"
   ]
  },
  {
   "cell_type": "code",
   "execution_count": 1,
   "metadata": {},
   "outputs": [
    {
     "name": "stdout",
     "output_type": "stream",
     "text": [
      "All Required Libraries Imported!\n"
     ]
    }
   ],
   "source": [
    "import pandas as pd\n",
    "import requests\n",
    "import numpy as np\n",
    "import geocoder\n",
    "##import folium\n",
    "import requests \n",
    "import matplotlib.cm as cm\n",
    "import matplotlib.colors as colors\n",
    "import json\n",
    "import xml\n",
    "import matplotlib.pyplot as plt\n",
    "%matplotlib inline\n",
    "import warnings\n",
    "warnings.filterwarnings(\"ignore\")\n",
    "\n",
    "from pandas.io.json import json_normalize \n",
    "from sklearn.cluster import KMeans\n",
    "## from geopy.geocoders import Nominatim \n",
    "from bs4 import BeautifulSoup\n",
    "\n",
    "import folium # map rendering library\n",
    "from geopy.geocoders import Nominatim \n",
    "\n",
    "\n",
    "pd.set_option('display.max_columns', None)\n",
    "pd.set_option('display.max_rows', None)\n",
    "\n",
    "print(\"All Required Libraries Imported!\")"
   ]
  },
  {
   "cell_type": "markdown",
   "metadata": {},
   "source": [
    "### 2. Data Extraction and Cleaning"
   ]
  },
  {
   "cell_type": "code",
   "execution_count": 2,
   "metadata": {},
   "outputs": [
    {
     "name": "stdout",
     "output_type": "stream",
     "text": [
      "Your credentails:\n",
      "CLIENT_ID: IHMMGHNEYAR1IDVX4C4L2MJGH0FXBAGGJYAGRITQVVS2OPAB\n",
      "CLIENT_SECRET: 4YLFZ2NWCQO1XGAVP2MTQ2LCNAHZDADTJBS0FDI4HY4SUJNZ\n"
     ]
    }
   ],
   "source": [
    "# @hiddel_cell\n",
    "CLIENT_ID = 'IHMMGHNEYAR1IDVX4C4L2MJGH0FXBAGGJYAGRITQVVS2OPAB' # my Foursquare ID\n",
    "CLIENT_SECRET = '4YLFZ2NWCQO1XGAVP2MTQ2LCNAHZDADTJBS0FDI4HY4SUJNZ' # my Foursquare Secret\n",
    "VERSION = '20180604'\n",
    "LIMIT = 300\n",
    "print('Your credentails:')\n",
    "print('CLIENT_ID: '+CLIENT_ID)\n",
    "print('CLIENT_SECRET: '+CLIENT_SECRET)"
   ]
  },
  {
   "cell_type": "code",
   "execution_count": 77,
   "metadata": {},
   "outputs": [],
   "source": [
    "LIMIT = 100\n",
    "latitude_n1= 4.710113\n",
    "longitude_n1= -74.072036\n",
    "query = 'veterinaria'\n",
    "radius = 10000\n",
    "url = 'https://api.foursquare.com/v2/venues/search?&client_id={}&client_secret={}&v={}&ll={},{}&query={}&radius={}&limit={}'.format(\n",
    "    CLIENT_ID, \n",
    "    CLIENT_SECRET, \n",
    "    VERSION, \n",
    "    latitude_n1, \n",
    "   longitude_n1,\n",
    "    query,\n",
    "    radius, \n",
    "   LIMIT)\n",
    "results = requests.get(url).json()"
   ]
  },
  {
   "cell_type": "code",
   "execution_count": 78,
   "metadata": {},
   "outputs": [
    {
     "data": {
      "text/plain": [
       "Index(['id', 'name', 'categories', 'referralId', 'hasPerk', 'location.lat',\n",
       "       'location.lng', 'location.labeledLatLngs', 'location.distance',\n",
       "       'location.cc', 'location.country', 'location.formattedAddress',\n",
       "       'location.address', 'location.city', 'location.state',\n",
       "       'location.crossStreet', 'location.neighborhood', 'location.postalCode'],\n",
       "      dtype='object')"
      ]
     },
     "execution_count": 78,
     "metadata": {},
     "output_type": "execute_result"
    }
   ],
   "source": [
    "## veterinary=results['response']['groups'][0]['items']\n",
    "veterinary=results['response']['venues']\n",
    "veterinary = json_normalize(veterinary)\n",
    "veterinary.columns"
   ]
  },
  {
   "cell_type": "code",
   "execution_count": 40,
   "metadata": {},
   "outputs": [],
   "source": [
    "def get_category_type(row):\n",
    "    try:\n",
    "        categories_list = row['categories']\n",
    "    except:\n",
    "        categories_list = row['categories']\n",
    "        \n",
    "    if len(categories_list) == 0:\n",
    "        return None\n",
    "    else:\n",
    "        return categories_list[0]['name']"
   ]
  },
  {
   "cell_type": "code",
   "execution_count": 79,
   "metadata": {},
   "outputs": [
    {
     "data": {
      "text/html": [
       "<div>\n",
       "<style scoped>\n",
       "    .dataframe tbody tr th:only-of-type {\n",
       "        vertical-align: middle;\n",
       "    }\n",
       "\n",
       "    .dataframe tbody tr th {\n",
       "        vertical-align: top;\n",
       "    }\n",
       "\n",
       "    .dataframe thead th {\n",
       "        text-align: right;\n",
       "    }\n",
       "</style>\n",
       "<table border=\"1\" class=\"dataframe\">\n",
       "  <thead>\n",
       "    <tr style=\"text-align: right;\">\n",
       "      <th></th>\n",
       "      <th>name</th>\n",
       "      <th>categories</th>\n",
       "      <th>location.lat</th>\n",
       "      <th>location.lng</th>\n",
       "    </tr>\n",
       "  </thead>\n",
       "  <tbody>\n",
       "    <tr>\n",
       "      <th>0</th>\n",
       "      <td>Veterinaria San Roque</td>\n",
       "      <td>[{'id': '4bf58dd8d48988d100951735', 'name': 'P...</td>\n",
       "      <td>4.708541</td>\n",
       "      <td>-74.071816</td>\n",
       "    </tr>\n",
       "    <tr>\n",
       "      <th>1</th>\n",
       "      <td>Veterinaria dr david bernal</td>\n",
       "      <td>[{'id': '4d954af4a243a5684765b473', 'name': 'V...</td>\n",
       "      <td>4.708601</td>\n",
       "      <td>-74.075333</td>\n",
       "    </tr>\n",
       "    <tr>\n",
       "      <th>2</th>\n",
       "      <td>Veterinaria PRE PAY Grooming Club</td>\n",
       "      <td>[{'id': '4bf58dd8d48988d196941735', 'name': 'H...</td>\n",
       "      <td>4.722691</td>\n",
       "      <td>-74.050319</td>\n",
       "    </tr>\n",
       "    <tr>\n",
       "      <th>3</th>\n",
       "      <td>Súper Waw Clinica veterinaria</td>\n",
       "      <td>[{'id': '4d954af4a243a5684765b473', 'name': 'V...</td>\n",
       "      <td>4.710816</td>\n",
       "      <td>-74.074530</td>\n",
       "    </tr>\n",
       "    <tr>\n",
       "      <th>4</th>\n",
       "      <td>Veterinaria animal work</td>\n",
       "      <td>[{'id': '4bf58dd8d48988d100951735', 'name': 'P...</td>\n",
       "      <td>4.716472</td>\n",
       "      <td>-74.065061</td>\n",
       "    </tr>\n",
       "  </tbody>\n",
       "</table>\n",
       "</div>"
      ],
      "text/plain": [
       "                                name  \\\n",
       "0              Veterinaria San Roque   \n",
       "1        Veterinaria dr david bernal   \n",
       "2  Veterinaria PRE PAY Grooming Club   \n",
       "3      Súper Waw Clinica veterinaria   \n",
       "4            Veterinaria animal work   \n",
       "\n",
       "                                          categories  location.lat  \\\n",
       "0  [{'id': '4bf58dd8d48988d100951735', 'name': 'P...      4.708541   \n",
       "1  [{'id': '4d954af4a243a5684765b473', 'name': 'V...      4.708601   \n",
       "2  [{'id': '4bf58dd8d48988d196941735', 'name': 'H...      4.722691   \n",
       "3  [{'id': '4d954af4a243a5684765b473', 'name': 'V...      4.710816   \n",
       "4  [{'id': '4bf58dd8d48988d100951735', 'name': 'P...      4.716472   \n",
       "\n",
       "   location.lng  \n",
       "0    -74.071816  \n",
       "1    -74.075333  \n",
       "2    -74.050319  \n",
       "3    -74.074530  \n",
       "4    -74.065061  "
      ]
     },
     "execution_count": 79,
     "metadata": {},
     "output_type": "execute_result"
    }
   ],
   "source": [
    "filtered_columns = ['name','categories','location.lat', 'location.lng']\n",
    "veterinary =veterinary.loc[:, filtered_columns]\n",
    "veterinary.head()"
   ]
  },
  {
   "cell_type": "code",
   "execution_count": 80,
   "metadata": {},
   "outputs": [
    {
     "data": {
      "text/html": [
       "<div>\n",
       "<style scoped>\n",
       "    .dataframe tbody tr th:only-of-type {\n",
       "        vertical-align: middle;\n",
       "    }\n",
       "\n",
       "    .dataframe tbody tr th {\n",
       "        vertical-align: top;\n",
       "    }\n",
       "\n",
       "    .dataframe thead th {\n",
       "        text-align: right;\n",
       "    }\n",
       "</style>\n",
       "<table border=\"1\" class=\"dataframe\">\n",
       "  <thead>\n",
       "    <tr style=\"text-align: right;\">\n",
       "      <th></th>\n",
       "      <th>name</th>\n",
       "      <th>categories</th>\n",
       "      <th>lat</th>\n",
       "      <th>lng</th>\n",
       "    </tr>\n",
       "  </thead>\n",
       "  <tbody>\n",
       "    <tr>\n",
       "      <th>0</th>\n",
       "      <td>Veterinaria San Roque</td>\n",
       "      <td>Pet Store</td>\n",
       "      <td>4.708541</td>\n",
       "      <td>-74.071816</td>\n",
       "    </tr>\n",
       "    <tr>\n",
       "      <th>1</th>\n",
       "      <td>Veterinaria dr david bernal</td>\n",
       "      <td>Veterinarian</td>\n",
       "      <td>4.708601</td>\n",
       "      <td>-74.075333</td>\n",
       "    </tr>\n",
       "    <tr>\n",
       "      <th>2</th>\n",
       "      <td>Veterinaria PRE PAY Grooming Club</td>\n",
       "      <td>Hospital</td>\n",
       "      <td>4.722691</td>\n",
       "      <td>-74.050319</td>\n",
       "    </tr>\n",
       "    <tr>\n",
       "      <th>3</th>\n",
       "      <td>Súper Waw Clinica veterinaria</td>\n",
       "      <td>Veterinarian</td>\n",
       "      <td>4.710816</td>\n",
       "      <td>-74.074530</td>\n",
       "    </tr>\n",
       "    <tr>\n",
       "      <th>4</th>\n",
       "      <td>Veterinaria animal work</td>\n",
       "      <td>Pet Store</td>\n",
       "      <td>4.716472</td>\n",
       "      <td>-74.065061</td>\n",
       "    </tr>\n",
       "    <tr>\n",
       "      <th>5</th>\n",
       "      <td>CRE Centro de Resonancia Especializada Veterin...</td>\n",
       "      <td>Veterinarian</td>\n",
       "      <td>4.710770</td>\n",
       "      <td>-74.074974</td>\n",
       "    </tr>\n",
       "    <tr>\n",
       "      <th>6</th>\n",
       "      <td>Veterinaria</td>\n",
       "      <td>None</td>\n",
       "      <td>4.729281</td>\n",
       "      <td>-74.068234</td>\n",
       "    </tr>\n",
       "    <tr>\n",
       "      <th>7</th>\n",
       "      <td>Veterinaria Dog Land</td>\n",
       "      <td>Veterinarian</td>\n",
       "      <td>4.700618</td>\n",
       "      <td>-74.079267</td>\n",
       "    </tr>\n",
       "    <tr>\n",
       "      <th>8</th>\n",
       "      <td>Veterinaria Prado</td>\n",
       "      <td>Pet Service</td>\n",
       "      <td>4.715114</td>\n",
       "      <td>-74.058563</td>\n",
       "    </tr>\n",
       "    <tr>\n",
       "      <th>9</th>\n",
       "      <td>Clinica Oftalmologica Veterinaria Audrey Calderon</td>\n",
       "      <td>Pet Service</td>\n",
       "      <td>4.706380</td>\n",
       "      <td>-74.078500</td>\n",
       "    </tr>\n",
       "    <tr>\n",
       "      <th>10</th>\n",
       "      <td>Clinica Veterinaria San Marcos De León</td>\n",
       "      <td>Veterinarian</td>\n",
       "      <td>4.709402</td>\n",
       "      <td>-74.078195</td>\n",
       "    </tr>\n",
       "    <tr>\n",
       "      <th>11</th>\n",
       "      <td>Veterinaria LaPajarera</td>\n",
       "      <td>Pet Store</td>\n",
       "      <td>4.676749</td>\n",
       "      <td>-74.143932</td>\n",
       "    </tr>\n",
       "    <tr>\n",
       "      <th>12</th>\n",
       "      <td>Veterinaria Clinidog</td>\n",
       "      <td>Veterinarian</td>\n",
       "      <td>4.693498</td>\n",
       "      <td>-74.067399</td>\n",
       "    </tr>\n",
       "    <tr>\n",
       "      <th>13</th>\n",
       "      <td>Veterinaria Prado Pet</td>\n",
       "      <td>Pet Service</td>\n",
       "      <td>4.715773</td>\n",
       "      <td>-74.055472</td>\n",
       "    </tr>\n",
       "    <tr>\n",
       "      <th>14</th>\n",
       "      <td>Veterinaria</td>\n",
       "      <td>Veterinarian</td>\n",
       "      <td>4.731560</td>\n",
       "      <td>-74.049933</td>\n",
       "    </tr>\n",
       "    <tr>\n",
       "      <th>15</th>\n",
       "      <td>acupuntura veterinaria domiciliaria</td>\n",
       "      <td>Acupuncturist</td>\n",
       "      <td>4.717355</td>\n",
       "      <td>-74.068902</td>\n",
       "    </tr>\n",
       "    <tr>\n",
       "      <th>16</th>\n",
       "      <td>Veterinaria Biopromedic</td>\n",
       "      <td>Veterinarian</td>\n",
       "      <td>4.729781</td>\n",
       "      <td>-74.068414</td>\n",
       "    </tr>\n",
       "    <tr>\n",
       "      <th>17</th>\n",
       "      <td>El refugio clínica veterinaria</td>\n",
       "      <td>Pet Store</td>\n",
       "      <td>4.717259</td>\n",
       "      <td>-74.069303</td>\n",
       "    </tr>\n",
       "    <tr>\n",
       "      <th>18</th>\n",
       "      <td>Veterinaria la Castellana</td>\n",
       "      <td>Veterinarian</td>\n",
       "      <td>4.688918</td>\n",
       "      <td>-74.071457</td>\n",
       "    </tr>\n",
       "    <tr>\n",
       "      <th>19</th>\n",
       "      <td>Animal Health Neurología Veterinaria</td>\n",
       "      <td>Veterinarian</td>\n",
       "      <td>4.742298</td>\n",
       "      <td>-74.058067</td>\n",
       "    </tr>\n",
       "    <tr>\n",
       "      <th>20</th>\n",
       "      <td>Clínica Veterinaria VETS</td>\n",
       "      <td>Veterinarian</td>\n",
       "      <td>4.720501</td>\n",
       "      <td>-74.067720</td>\n",
       "    </tr>\n",
       "    <tr>\n",
       "      <th>21</th>\n",
       "      <td>Veterinaria Don Bosco</td>\n",
       "      <td>Veterinarian</td>\n",
       "      <td>4.697408</td>\n",
       "      <td>-74.092352</td>\n",
       "    </tr>\n",
       "    <tr>\n",
       "      <th>22</th>\n",
       "      <td>Veterinaria Doggies</td>\n",
       "      <td>Veterinarian</td>\n",
       "      <td>4.705424</td>\n",
       "      <td>-74.049717</td>\n",
       "    </tr>\n",
       "    <tr>\n",
       "      <th>23</th>\n",
       "      <td>Veterinaria Doggies</td>\n",
       "      <td>Pet Service</td>\n",
       "      <td>4.705485</td>\n",
       "      <td>-74.049539</td>\n",
       "    </tr>\n",
       "    <tr>\n",
       "      <th>24</th>\n",
       "      <td>veterinaria myc</td>\n",
       "      <td>Pet Store</td>\n",
       "      <td>4.690471</td>\n",
       "      <td>-74.087822</td>\n",
       "    </tr>\n",
       "  </tbody>\n",
       "</table>\n",
       "</div>"
      ],
      "text/plain": [
       "                                                 name     categories  \\\n",
       "0                               Veterinaria San Roque      Pet Store   \n",
       "1                         Veterinaria dr david bernal   Veterinarian   \n",
       "2                   Veterinaria PRE PAY Grooming Club       Hospital   \n",
       "3                       Súper Waw Clinica veterinaria   Veterinarian   \n",
       "4                             Veterinaria animal work      Pet Store   \n",
       "5   CRE Centro de Resonancia Especializada Veterin...   Veterinarian   \n",
       "6                                         Veterinaria           None   \n",
       "7                                Veterinaria Dog Land   Veterinarian   \n",
       "8                                   Veterinaria Prado    Pet Service   \n",
       "9   Clinica Oftalmologica Veterinaria Audrey Calderon    Pet Service   \n",
       "10             Clinica Veterinaria San Marcos De León   Veterinarian   \n",
       "11                             Veterinaria LaPajarera      Pet Store   \n",
       "12                               Veterinaria Clinidog   Veterinarian   \n",
       "13                              Veterinaria Prado Pet    Pet Service   \n",
       "14                                        Veterinaria   Veterinarian   \n",
       "15                acupuntura veterinaria domiciliaria  Acupuncturist   \n",
       "16                            Veterinaria Biopromedic   Veterinarian   \n",
       "17                     El refugio clínica veterinaria      Pet Store   \n",
       "18                          Veterinaria la Castellana   Veterinarian   \n",
       "19               Animal Health Neurología Veterinaria   Veterinarian   \n",
       "20                           Clínica Veterinaria VETS   Veterinarian   \n",
       "21                              Veterinaria Don Bosco   Veterinarian   \n",
       "22                                Veterinaria Doggies   Veterinarian   \n",
       "23                                Veterinaria Doggies    Pet Service   \n",
       "24                                    veterinaria myc      Pet Store   \n",
       "\n",
       "         lat        lng  \n",
       "0   4.708541 -74.071816  \n",
       "1   4.708601 -74.075333  \n",
       "2   4.722691 -74.050319  \n",
       "3   4.710816 -74.074530  \n",
       "4   4.716472 -74.065061  \n",
       "5   4.710770 -74.074974  \n",
       "6   4.729281 -74.068234  \n",
       "7   4.700618 -74.079267  \n",
       "8   4.715114 -74.058563  \n",
       "9   4.706380 -74.078500  \n",
       "10  4.709402 -74.078195  \n",
       "11  4.676749 -74.143932  \n",
       "12  4.693498 -74.067399  \n",
       "13  4.715773 -74.055472  \n",
       "14  4.731560 -74.049933  \n",
       "15  4.717355 -74.068902  \n",
       "16  4.729781 -74.068414  \n",
       "17  4.717259 -74.069303  \n",
       "18  4.688918 -74.071457  \n",
       "19  4.742298 -74.058067  \n",
       "20  4.720501 -74.067720  \n",
       "21  4.697408 -74.092352  \n",
       "22  4.705424 -74.049717  \n",
       "23  4.705485 -74.049539  \n",
       "24  4.690471 -74.087822  "
      ]
     },
     "execution_count": 80,
     "metadata": {},
     "output_type": "execute_result"
    }
   ],
   "source": [
    "veterinary['categories'] = veterinary.apply(get_category_type, axis=1)\n",
    "# clean columns\n",
    "veterinary.columns = [col.split(\".\")[-1] for col in veterinary.columns]\n",
    "veterinary.head(25)"
   ]
  },
  {
   "cell_type": "markdown",
   "metadata": {},
   "source": [
    "### Top categories pet service"
   ]
  },
  {
   "cell_type": "code",
   "execution_count": 81,
   "metadata": {},
   "outputs": [
    {
     "data": {
      "text/plain": [
       "Veterinarian        23\n",
       "Pet Store           10\n",
       "Pet Service          6\n",
       "Acupuncturist        4\n",
       "Animal Shelter       3\n",
       "Business Service     1\n",
       "Hospital             1\n",
       "Name: categories, dtype: int64"
      ]
     },
     "execution_count": 81,
     "metadata": {},
     "output_type": "execute_result"
    }
   ],
   "source": [
    "# Top 10 Categories pet services\n",
    "a=pd.Series(veterinary.categories)\n",
    "a.value_counts()[:10]"
   ]
  },
  {
   "cell_type": "markdown",
   "metadata": {},
   "source": [
    "## K-Means Clustering Approach"
   ]
  },
  {
   "cell_type": "code",
   "execution_count": 83,
   "metadata": {},
   "outputs": [
    {
     "data": {
      "text/plain": [
       "array([0, 0, 1, 0, 1, 0, 1, 0, 1, 0, 0, 2, 0, 1, 1, 1, 1, 1, 0, 1, 1, 0,\n",
       "       1, 1, 0, 1, 1, 2, 0, 0, 0, 2, 1, 1, 0, 1, 0, 1, 1, 1, 2, 2, 0, 2,\n",
       "       2, 0, 1, 1, 0, 0], dtype=int32)"
      ]
     },
     "execution_count": 83,
     "metadata": {},
     "output_type": "execute_result"
    }
   ],
   "source": [
    "# Using K-Means to cluster pet services into 3 clusters\n",
    "veterinary_clustering = veterinary.drop('name', 1)\n",
    "veterinary_clustering = veterinary_clustering.drop('categories', 1)\n",
    "kmeans = KMeans(n_clusters=3, random_state=0).fit(veterinary_clustering)\n",
    "kmeans.labels_"
   ]
  },
  {
   "cell_type": "code",
   "execution_count": 84,
   "metadata": {},
   "outputs": [
    {
     "data": {
      "text/html": [
       "<div>\n",
       "<style scoped>\n",
       "    .dataframe tbody tr th:only-of-type {\n",
       "        vertical-align: middle;\n",
       "    }\n",
       "\n",
       "    .dataframe tbody tr th {\n",
       "        vertical-align: top;\n",
       "    }\n",
       "\n",
       "    .dataframe thead th {\n",
       "        text-align: right;\n",
       "    }\n",
       "</style>\n",
       "<table border=\"1\" class=\"dataframe\">\n",
       "  <thead>\n",
       "    <tr style=\"text-align: right;\">\n",
       "      <th></th>\n",
       "      <th>name</th>\n",
       "      <th>categories</th>\n",
       "      <th>lat</th>\n",
       "      <th>lng</th>\n",
       "    </tr>\n",
       "  </thead>\n",
       "  <tbody>\n",
       "    <tr>\n",
       "      <th>0</th>\n",
       "      <td>Veterinaria San Roque</td>\n",
       "      <td>Pet Store</td>\n",
       "      <td>4.708541</td>\n",
       "      <td>-74.071816</td>\n",
       "    </tr>\n",
       "    <tr>\n",
       "      <th>1</th>\n",
       "      <td>Veterinaria dr david bernal</td>\n",
       "      <td>Veterinarian</td>\n",
       "      <td>4.708601</td>\n",
       "      <td>-74.075333</td>\n",
       "    </tr>\n",
       "    <tr>\n",
       "      <th>2</th>\n",
       "      <td>Veterinaria PRE PAY Grooming Club</td>\n",
       "      <td>Hospital</td>\n",
       "      <td>4.722691</td>\n",
       "      <td>-74.050319</td>\n",
       "    </tr>\n",
       "    <tr>\n",
       "      <th>3</th>\n",
       "      <td>Súper Waw Clinica veterinaria</td>\n",
       "      <td>Veterinarian</td>\n",
       "      <td>4.710816</td>\n",
       "      <td>-74.074530</td>\n",
       "    </tr>\n",
       "    <tr>\n",
       "      <th>4</th>\n",
       "      <td>Veterinaria animal work</td>\n",
       "      <td>Pet Store</td>\n",
       "      <td>4.716472</td>\n",
       "      <td>-74.065061</td>\n",
       "    </tr>\n",
       "  </tbody>\n",
       "</table>\n",
       "</div>"
      ],
      "text/plain": [
       "                                name    categories       lat        lng\n",
       "0              Veterinaria San Roque     Pet Store  4.708541 -74.071816\n",
       "1        Veterinaria dr david bernal  Veterinarian  4.708601 -74.075333\n",
       "2  Veterinaria PRE PAY Grooming Club      Hospital  4.722691 -74.050319\n",
       "3      Súper Waw Clinica veterinaria  Veterinarian  4.710816 -74.074530\n",
       "4            Veterinaria animal work     Pet Store  4.716472 -74.065061"
      ]
     },
     "execution_count": 84,
     "metadata": {},
     "output_type": "execute_result"
    }
   ],
   "source": [
    "veterinary.head()"
   ]
  },
  {
   "cell_type": "code",
   "execution_count": 91,
   "metadata": {},
   "outputs": [
    {
     "data": {
      "text/html": [
       "<div>\n",
       "<style scoped>\n",
       "    .dataframe tbody tr th:only-of-type {\n",
       "        vertical-align: middle;\n",
       "    }\n",
       "\n",
       "    .dataframe tbody tr th {\n",
       "        vertical-align: top;\n",
       "    }\n",
       "\n",
       "    .dataframe thead th {\n",
       "        text-align: right;\n",
       "    }\n",
       "</style>\n",
       "<table border=\"1\" class=\"dataframe\">\n",
       "  <thead>\n",
       "    <tr style=\"text-align: right;\">\n",
       "      <th></th>\n",
       "      <th>Cluster Labels</th>\n",
       "      <th>name</th>\n",
       "      <th>categories</th>\n",
       "      <th>lat</th>\n",
       "      <th>lng</th>\n",
       "    </tr>\n",
       "  </thead>\n",
       "  <tbody>\n",
       "    <tr>\n",
       "      <th>0</th>\n",
       "      <td>0</td>\n",
       "      <td>Veterinaria San Roque</td>\n",
       "      <td>Pet Store</td>\n",
       "      <td>4.708541</td>\n",
       "      <td>-74.071816</td>\n",
       "    </tr>\n",
       "    <tr>\n",
       "      <th>1</th>\n",
       "      <td>0</td>\n",
       "      <td>Veterinaria dr david bernal</td>\n",
       "      <td>Veterinarian</td>\n",
       "      <td>4.708601</td>\n",
       "      <td>-74.075333</td>\n",
       "    </tr>\n",
       "    <tr>\n",
       "      <th>2</th>\n",
       "      <td>1</td>\n",
       "      <td>Veterinaria PRE PAY Grooming Club</td>\n",
       "      <td>Hospital</td>\n",
       "      <td>4.722691</td>\n",
       "      <td>-74.050319</td>\n",
       "    </tr>\n",
       "    <tr>\n",
       "      <th>3</th>\n",
       "      <td>0</td>\n",
       "      <td>Súper Waw Clinica veterinaria</td>\n",
       "      <td>Veterinarian</td>\n",
       "      <td>4.710816</td>\n",
       "      <td>-74.074530</td>\n",
       "    </tr>\n",
       "    <tr>\n",
       "      <th>4</th>\n",
       "      <td>1</td>\n",
       "      <td>Veterinaria animal work</td>\n",
       "      <td>Pet Store</td>\n",
       "      <td>4.716472</td>\n",
       "      <td>-74.065061</td>\n",
       "    </tr>\n",
       "  </tbody>\n",
       "</table>\n",
       "</div>"
      ],
      "text/plain": [
       "   Cluster Labels                               name    categories       lat  \\\n",
       "0               0              Veterinaria San Roque     Pet Store  4.708541   \n",
       "1               0        Veterinaria dr david bernal  Veterinarian  4.708601   \n",
       "2               1  Veterinaria PRE PAY Grooming Club      Hospital  4.722691   \n",
       "3               0      Súper Waw Clinica veterinaria  Veterinarian  4.710816   \n",
       "4               1            Veterinaria animal work     Pet Store  4.716472   \n",
       "\n",
       "         lng  \n",
       "0 -74.071816  \n",
       "1 -74.075333  \n",
       "2 -74.050319  \n",
       "3 -74.074530  \n",
       "4 -74.065061  "
      ]
     },
     "execution_count": 91,
     "metadata": {},
     "output_type": "execute_result"
    }
   ],
   "source": [
    "## veterinary.insert(0, 'Cluster Labels', kmeans.labels_)\n",
    "\n",
    "## veterinary_merged =df_2.iloc[:16,:]\n",
    "\n",
    "## veterinaryh_merged = veterinary_merged.join(veterinary.set_index('name'), on='name')\n",
    "\n",
    "veterinary.head()# check the last columns!"
   ]
  },
  {
   "cell_type": "markdown",
   "metadata": {},
   "source": [
    "## Map of Clusters"
   ]
  },
  {
   "cell_type": "code",
   "execution_count": 93,
   "metadata": {},
   "outputs": [],
   "source": [
    "kclusters = 10"
   ]
  },
  {
   "cell_type": "code",
   "execution_count": 100,
   "metadata": {},
   "outputs": [
    {
     "name": "stdout",
     "output_type": "stream",
     "text": [
      "['#8000ff', '#4856fb', '#10a2f0', '#2adddd', '#62fbc4', '#9cfba4', '#d4dd80', '#ffa256', '#ff562c', '#ff0000']\n"
     ]
    },
    {
     "data": {
      "text/html": [
       "<div style=\"width:100%;\"><div style=\"position:relative;width:100%;height:0;padding-bottom:60%;\"><span style=\"color:#565656\">Make this Notebook Trusted to load map: File -> Trust Notebook</span><iframe src=\"about:blank\" style=\"position:absolute;width:100%;height:100%;left:0;top:0;border:none !important;\" data-html=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 onload=\"this.contentDocument.open();this.contentDocument.write(atob(this.getAttribute('data-html')));this.contentDocument.close();\" allowfullscreen webkitallowfullscreen mozallowfullscreen></iframe></div></div>"
      ],
      "text/plain": [
       "<folium.folium.Map at 0x7f063fc1f0b8>"
      ]
     },
     "execution_count": 100,
     "metadata": {},
     "output_type": "execute_result"
    }
   ],
   "source": [
    "# create map\n",
    "latitude = 4.710113\n",
    "longitude = -74.072036\n",
    "map_clusters = folium.Map(location=[latitude, longitude], zoom_start=11)\n",
    "\n",
    "# set color scheme for the clusters\n",
    "x = np.arange(kclusters)\n",
    "colors_array = cm.rainbow(np.linspace(0, 1, kclusters))\n",
    "rainbow = [colors.rgb2hex(i) for i in colors_array]\n",
    "print(rainbow)\n",
    "# add markers to the map\n",
    "\n",
    "markers_colors = []\n",
    "for lat, lon, nei , cluster in zip(veterinary['lat'], \n",
    "                                   veterinary['lng'], \n",
    "                                   veterinary['name'], \n",
    "                                   veterinary['Cluster Labels']):\n",
    "    label = folium.Popup(str(nei) + ' Cluster ' + str(cluster), parse_html=True)\n",
    "    folium.CircleMarker(\n",
    "        [lat, lon],\n",
    "        radius=5,\n",
    "        popup=label,\n",
    "        color=rainbow[cluster-1],\n",
    "        fill=True,\n",
    "        fill_color=rainbow[cluster-1],\n",
    "        fill_opacity=0.7).add_to(map_clusters)\n",
    "       \n",
    "map_clusters"
   ]
  },
  {
   "cell_type": "code",
   "execution_count": null,
   "metadata": {},
   "outputs": [],
   "source": []
  },
  {
   "cell_type": "code",
   "execution_count": null,
   "metadata": {},
   "outputs": [],
   "source": []
  },
  {
   "cell_type": "code",
   "execution_count": null,
   "metadata": {},
   "outputs": [],
   "source": []
  }
 ],
 "metadata": {
  "kernelspec": {
   "display_name": "Python",
   "language": "python",
   "name": "conda-env-python-py"
  },
  "language_info": {
   "codemirror_mode": {
    "name": "ipython",
    "version": 3
   },
   "file_extension": ".py",
   "mimetype": "text/x-python",
   "name": "python",
   "nbconvert_exporter": "python",
   "pygments_lexer": "ipython3",
   "version": "3.6.11"
  }
 },
 "nbformat": 4,
 "nbformat_minor": 4
}
